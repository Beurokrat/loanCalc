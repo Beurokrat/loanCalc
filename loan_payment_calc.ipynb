{
  "nbformat": 4,
  "nbformat_minor": 0,
  "metadata": {
    "colab": {
      "provenance": []
    },
    "kernelspec": {
      "name": "python3",
      "display_name": "Python 3"
    },
    "language_info": {
      "name": "python"
    }
  },
  "cells": [
    {
      "cell_type": "markdown",
      "source": [
        "# Loan Payment Calculator"
      ],
      "metadata": {
        "id": "h2lRQKR63MAN"
      }
    },
    {
      "cell_type": "code",
      "execution_count": 76,
      "metadata": {
        "id": "Rf9R0Hy_2IG9"
      },
      "outputs": [],
      "source": [
        "import matplotlib.pyplot as plt"
      ]
    },
    {
      "cell_type": "markdown",
      "source": [
        "##**Define loan parameters**\n"
      ],
      "metadata": {
        "id": "zp3HRzlz2R9J"
      }
    },
    {
      "cell_type": "code",
      "source": [
        "principal = 37500000\n",
        "interest_rate = 9.85/100\n",
        "loan_duration = 4 #in yrs\n",
        "print(\"Yearly intrest rate    : \",interest_rate*100,'%')\n",
        "print(\"Total intrest (approx) : Rs.\",round(principal*interest_rate*loan_duration,2),\"--> fixed interest for \",loan_duration,\" years\")\n"
      ],
      "metadata": {
        "colab": {
          "base_uri": "https://localhost:8080/"
        },
        "id": "tW6lYzJo2bMd",
        "outputId": "1cee2002-5815-4b91-e347-9241cc626a09"
      },
      "execution_count": 96,
      "outputs": [
        {
          "output_type": "stream",
          "name": "stdout",
          "text": [
            "Yearly intrest rate    :  9.85 %\n",
            "Total intrest (approx) : Rs. 14775000.0 --> fixed interest for  4  years\n"
          ]
        }
      ]
    },
    {
      "cell_type": "markdown",
      "source": [
        "## **Calculate monthly payment**\n",
        "\n",
        "The formula used to calculate the monthly payment of a loan is based on the concept of present value. It is calculated using the following formula: <br> <br>` monthly_payment = (r * P) / (1 - (1 + r)^(-n))`  <br> <br> Where:\n",
        "\n",
        "- P is the principal amount of the loan\n",
        "- r is the monthly interest rate\n",
        "- n is the total number of monthly payments over the life of the loan <br><br>\n",
        "\n",
        "The formula works by calculating the present value of the loan, which is the amount of money needed to be paid today to cover the future payments. The formula then solves for the monthly payment amount that would result in this present value, given the loan parameters.\n"
      ],
      "metadata": {
        "id": "26cG2Aiq2fFr"
      }
    },
    {
      "cell_type": "code",
      "source": [
        "n_months = loan_duration * 12\n",
        "monthly_rate = interest_rate / 12\n",
        "monthly_payment = (monthly_rate * principal) / (1 - (1 + monthly_rate)**(-n_months))\n",
        "print(\"Monthly intrest rate : \",round(monthly_rate*100, 4),'%')\n",
        "print(\"Monthly payment amount : Rs.\",round(monthly_payment,2))"
      ],
      "metadata": {
        "colab": {
          "base_uri": "https://localhost:8080/"
        },
        "id": "bynQzvXv2mPz",
        "outputId": "65ff9687-727a-4ff9-c4f9-132625f17c2e"
      },
      "execution_count": 97,
      "outputs": [
        {
          "output_type": "stream",
          "name": "stdout",
          "text": [
            "Monthly intrest rate :  0.8208 %\n",
            "Monthly payment amount : Rs. 948397.78\n"
          ]
        }
      ]
    },
    {
      "cell_type": "markdown",
      "source": [
        "## **Calculate and store loan balance and interest paid for each month**"
      ],
      "metadata": {
        "id": "Dli_uDEI22ZO"
      }
    },
    {
      "cell_type": "code",
      "source": [
        "#initial values\n",
        "print(\"Loan Amount : Rs.\",principal,\" @ \",interest_rate*100,'%')\n",
        "print(\"Monthly Interest rate : \",round(monthly_rate*100, 4),'%')\n",
        "print(\"Monthly payment amount : Rs.\",round(monthly_payment,2))\n",
        "print(\"==========================================================\")\n",
        "# initialise parameters\n",
        "balance = principal\n",
        "interest_paid = 0\n",
        "balances = []\n",
        "interests = []\n",
        "yr = 0\n",
        "yr_interest_paid = 0\n",
        "yr_principal_paid = 0\n",
        "# monthly calculation\n",
        "for i in range(1, n_months+1):\n",
        "    interest = monthly_rate * balance\n",
        "    principal_paid = monthly_payment - interest\n",
        "    balance -= principal_paid\n",
        "    interest_paid += interest\n",
        "    balances.append(balance)\n",
        "    interests.append(interest_paid)\n",
        "    yr_interest_paid += interest\n",
        "    yr_principal_paid += principal_paid\n",
        "    # if i==1 or i==2 or i==3:\n",
        "    if False:\n",
        "      print(\"MONTH : \",i,\"--------------------------------\")\n",
        "      print(\"Interest amount    : Rs.\",round(abs(interest),2))\n",
        "      print(\"Principal amount   : Rs.\",round(principal_paid,2))\n",
        "      print(\"Total amount paid  : Rs.\",round(interest + principal_paid,2))\n",
        "      print(\"Remaining balance  : Rs.\",round(abs(balance),2))\n",
        "      print(\"\")\n",
        "    if True and i%12==0:\n",
        "      yr+=1\n",
        "      print(\"YEAR : \", yr)\n",
        "      print(\"--> Total interest amt paid  : Rs.\", round(yr_interest_paid,2))\n",
        "      print(\"--> Total principal amt paid : Rs.\", round(yr_principal_paid,2))\n",
        "      print(\"--> Total amt paid           : Rs.\", round(yr_interest_paid+yr_principal_paid,2))\n",
        "      print(\"Remaining balance            : Rs.\",round(abs(balance),2))\n",
        "      print(\"-------------------------------------------------------------\")\n",
        "      print(\"\")\n",
        "      yr_interest_paid = 0\n",
        "      yr_principal_paid = 0\n",
        "print(\"TOTAL\")\n",
        "print(\"-------------------------------------------------------------------\")\n",
        "print(\"Total interest amt paid  : Rs.\", round(interest_paid,2))\n",
        "print(\"Total amount paid        : Rs.\", round(principal + interest_paid,2))\n",
        "print(\"Pincipal amount          : Rs.\", principal)\n",
        "print(\"\")"
      ],
      "metadata": {
        "colab": {
          "base_uri": "https://localhost:8080/"
        },
        "id": "qbRzXgmF21-n",
        "outputId": "6f13bc4c-8015-46c6-b400-64ddaf9a0017"
      },
      "execution_count": 98,
      "outputs": [
        {
          "output_type": "stream",
          "name": "stdout",
          "text": [
            "Loan Amount : Rs. 37500000  @  9.85 %\n",
            "Monthly Interest rate :  0.8208 %\n",
            "Monthly payment amount : Rs. 948397.78\n",
            "==========================================================\n",
            "YEAR :  1\n",
            "--> Total interest amt paid  : Rs. 3337039.91\n",
            "--> Total principal amt paid : Rs. 8043733.5\n",
            "--> Total amt paid           : Rs. 11380773.41\n",
            "Remaining balance            : Rs. 29456266.5\n",
            "-------------------------------------------------------------\n",
            "\n",
            "YEAR :  2\n",
            "--> Total interest amt paid  : Rs. 2507965.76\n",
            "--> Total principal amt paid : Rs. 8872807.64\n",
            "--> Total amt paid           : Rs. 11380773.41\n",
            "Remaining balance            : Rs. 20583458.86\n",
            "-------------------------------------------------------------\n",
            "\n",
            "YEAR :  3\n",
            "--> Total interest amt paid  : Rs. 1593438.27\n",
            "--> Total principal amt paid : Rs. 9787335.14\n",
            "--> Total amt paid           : Rs. 11380773.41\n",
            "Remaining balance            : Rs. 10796123.72\n",
            "-------------------------------------------------------------\n",
            "\n",
            "YEAR :  4\n",
            "--> Total interest amt paid  : Rs. 584649.68\n",
            "--> Total principal amt paid : Rs. 10796123.72\n",
            "--> Total amt paid           : Rs. 11380773.41\n",
            "Remaining balance            : Rs. 0.0\n",
            "-------------------------------------------------------------\n",
            "\n",
            "TOTAL\n",
            "-------------------------------------------------------------------\n",
            "Total interest amt paid  : Rs. 8023093.62\n",
            "Total amount paid        : Rs. 45523093.62\n",
            "Pincipal amount          : Rs. 37500000\n",
            "\n"
          ]
        }
      ]
    },
    {
      "cell_type": "markdown",
      "source": [
        "## **Create plot of loan balance and interest paid over time**"
      ],
      "metadata": {
        "id": "MyN-yW6Y2-B5"
      }
    },
    {
      "cell_type": "code",
      "source": [
        "fig, ax = plt.subplots()\n",
        "ax.plot(range(n_months), balances, label='Loan Balance')\n",
        "ax.plot(range(n_months), interests, label='Interest Paid')\n",
        "ax.set_xlabel('Months')\n",
        "ax.set_ylabel('Amount (Rs)')\n",
        "ax.legend()\n",
        "plt.show()"
      ],
      "metadata": {
        "colab": {
          "base_uri": "https://localhost:8080/",
          "height": 465
        },
        "id": "6g4lldAN3EFb",
        "outputId": "e3250042-50fa-4afa-f949-04163b6a74c2"
      },
      "execution_count": 91,
      "outputs": [
        {
          "output_type": "display_data",
          "data": {
            "text/plain": [
              "<Figure size 640x480 with 1 Axes>"
            ],
            "image/png": "[encoded data removed]"
          },
          "metadata": {}
        }
      ]
    }
  ]
}